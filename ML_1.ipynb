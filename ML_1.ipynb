{
  "nbformat": 4,
  "nbformat_minor": 0,
  "metadata": {
    "colab": {
      "provenance": [],
      "authorship_tag": "ABX9TyMmQvCZffVi5NSo9YJkYB+T",
      "include_colab_link": true
    },
    "kernelspec": {
      "name": "python3",
      "display_name": "Python 3"
    },
    "language_info": {
      "name": "python"
    }
  },
  "cells": [
    {
      "cell_type": "markdown",
      "metadata": {
        "id": "view-in-github",
        "colab_type": "text"
      },
      "source": [
        "<a href=\"https://colab.research.google.com/github/bprabin811/7-Day-of-ML/blob/main/ML_1.ipynb\" target=\"_parent\"><img src=\"https://colab.research.google.com/assets/colab-badge.svg\" alt=\"Open In Colab\"/></a>"
      ]
    },
    {
      "cell_type": "markdown",
      "source": [
        "# **Data Types**\n",
        "1. **Numerical**\n",
        "\n",
        "    a. Discrete data\n",
        "\n",
        "    b. Continuous data\n",
        "2. **Categorical**\n",
        "3. **Ordinal**"
      ],
      "metadata": {
        "id": "qydCEbfK6heA"
      }
    },
    {
      "cell_type": "code",
      "source": [
        "[1,2,4,3]"
      ],
      "metadata": {
        "id": "rfqYdVYu6fZS"
      },
      "execution_count": null,
      "outputs": []
    },
    {
      "cell_type": "markdown",
      "source": [
        "# **Mean Median Mode**\n",
        "\n",
        "---\n",
        "\n",
        "**Mean**: The average value.\n",
        "\n",
        "**Median**: The mid point value.\n",
        "*italicized text*\n",
        "\n",
        "**Mode**: The most common value."
      ],
      "metadata": {
        "id": "89aW_TZs6N4x"
      }
    },
    {
      "cell_type": "markdown",
      "source": [],
      "metadata": {
        "id": "gZ0AyRv86Nxw"
      }
    },
    {
      "cell_type": "code",
      "source": [
        "speed=[24,57,45,89,45,67]"
      ],
      "metadata": {
        "id": "SF88ILi45sq8"
      },
      "execution_count": null,
      "outputs": []
    },
    {
      "cell_type": "markdown",
      "source": [
        "## **Mean**\n",
        "\n",
        "Let's find the mean,\n",
        "\n",
        "mean=(24+57+45+89+45+67)/6\n",
        "\n",
        "---\n",
        "\n",
        "we use `mean()` method from Numpy\n",
        "\n",
        "---"
      ],
      "metadata": {
        "id": "fj19GDao7fhc"
      }
    },
    {
      "cell_type": "code",
      "source": [
        "import numpy\n",
        "speed=[24,57,45,89,45,67]\n",
        "x= numpy.mean(speed)\n",
        "print(x)"
      ],
      "metadata": {
        "colab": {
          "base_uri": "https://localhost:8080/"
        },
        "id": "5NXGls7q7cDZ",
        "outputId": "e65d878c-4e0c-4765-c9bb-44d07423333c"
      },
      "execution_count": null,
      "outputs": [
        {
          "output_type": "stream",
          "name": "stdout",
          "text": [
            "54.5\n"
          ]
        }
      ]
    },
    {
      "cell_type": "markdown",
      "source": [
        "## **Median**\n",
        "\n",
        "The median value is the value in the middle.\n",
        "\n",
        "77, 78, **85**, 86, 86\n",
        "\n",
        "---\n",
        "\n",
        "we use `median()` method from Numpy\n",
        "\n",
        "---"
      ],
      "metadata": {
        "id": "U7MKagml8BKm"
      }
    },
    {
      "cell_type": "code",
      "source": [
        "import numpy\n",
        "a=[77, 78, 85, 86, 86]\n",
        "b=numpy.median(a)\n",
        "print(b)"
      ],
      "metadata": {
        "colab": {
          "base_uri": "https://localhost:8080/"
        },
        "id": "ZUhsxiOs754i",
        "outputId": "11ad05d9-ffc4-4078-e87f-6badb09ca1c6"
      },
      "execution_count": null,
      "outputs": [
        {
          "output_type": "stream",
          "name": "stdout",
          "text": [
            "85.0\n"
          ]
        }
      ]
    },
    {
      "cell_type": "markdown",
      "source": [
        "If Two values are at middle, divide the sum of those two value by 2.\n",
        "\n",
        "eg:\n",
        "\n",
        "77, 78, 85, 86, 86, 89\n",
        "\n",
        "(85+86)/2\n",
        "\n",
        "85.5\n"
      ],
      "metadata": {
        "id": "bqugO8eq8eX9"
      }
    },
    {
      "cell_type": "code",
      "source": [
        "import numpy\n",
        "a=[77, 78, 85, 86, 86, 89]\n",
        "b=numpy.median(a)\n",
        "print(b)"
      ],
      "metadata": {
        "colab": {
          "base_uri": "https://localhost:8080/"
        },
        "id": "VabuDd8k8cmS",
        "outputId": "761e20f1-d7f8-4112-a9e8-94387087f86b"
      },
      "execution_count": null,
      "outputs": [
        {
          "output_type": "stream",
          "name": "stdout",
          "text": [
            "85.5\n"
          ]
        }
      ]
    },
    {
      "cell_type": "markdown",
      "source": [
        "## **Mode**\n",
        "\n",
        "The Mode value is the value that appears the most number of times.\n",
        "\n",
        "**77**, 89, 79, **77**, 82, **77**, 84, 82\n",
        "\n",
        "---\n",
        "\n",
        "we use `stats.mode()` method from scypy\n",
        "\n",
        "---\n"
      ],
      "metadata": {
        "id": "xpBSH-k79Cw6"
      }
    },
    {
      "cell_type": "code",
      "source": [
        "from scipy import stats\n",
        "a=[77, 89, 79, 77, 82, 77, 84, 82]\n",
        "b=stats.mode(a)\n",
        "b"
      ],
      "metadata": {
        "colab": {
          "base_uri": "https://localhost:8080/"
        },
        "id": "Rp6ROQH59By0",
        "outputId": "93c355e9-c0f9-4d8f-d7ca-0aacfb3e2194"
      },
      "execution_count": null,
      "outputs": [
        {
          "output_type": "stream",
          "name": "stderr",
          "text": [
            "<ipython-input-8-a7ec9394d872>:3: FutureWarning: Unlike other reduction functions (e.g. `skew`, `kurtosis`), the default behavior of `mode` typically preserves the axis it acts along. In SciPy 1.11.0, this behavior will change: the default value of `keepdims` will become False, the `axis` over which the statistic is taken will be eliminated, and the value None will no longer be accepted. Set `keepdims` to True or False to avoid this warning.\n",
            "  b=stats.mode(a)\n"
          ]
        },
        {
          "output_type": "execute_result",
          "data": {
            "text/plain": [
              "ModeResult(mode=array([77]), count=array([3]))"
            ]
          },
          "metadata": {},
          "execution_count": 8
        }
      ]
    },
    {
      "cell_type": "markdown",
      "source": [
        "# **Standard Deviation**\n",
        "\n",
        "Defination:\n",
        "\n",
        "Standard deviation is a number that describes how spread out the values are.\n",
        "\n",
        "\"A low standard deviation means that most of the numbers are close to the mean (average) value.\"\n",
        "\n",
        "\"A high standard deviation means that the values are spread out over a wider range.\""
      ],
      "metadata": {
        "id": "_1dh_3Ld-GsJ"
      }
    },
    {
      "cell_type": "markdown",
      "source": [
        "data_1 = [86, 87, 88, 86, 87, 85, 86]\n",
        "\n",
        "data_2 = [32, 111, 138, 28, 59, 77, 97]\n",
        "\n",
        "\n",
        "\n",
        "---\n",
        "\n",
        "we use `std()` method from Numpy\n",
        "\n",
        "---\n",
        "\n"
      ],
      "metadata": {
        "id": "STDy6OZu-hMn"
      }
    },
    {
      "cell_type": "code",
      "source": [
        "import numpy\n",
        "data_1 = [86, 87, 88, 86, 87, 85, 86]\n",
        "sd_1= numpy.std(data_1)\n",
        "sd_1"
      ],
      "metadata": {
        "colab": {
          "base_uri": "https://localhost:8080/"
        },
        "id": "8-GH0hmP8_-s",
        "outputId": "2bca0ac1-c209-4971-dd47-ba23003126a2"
      },
      "execution_count": null,
      "outputs": [
        {
          "output_type": "execute_result",
          "data": {
            "text/plain": [
              "0.9035079029052513"
            ]
          },
          "metadata": {},
          "execution_count": 11
        }
      ]
    },
    {
      "cell_type": "code",
      "source": [
        "import numpy\n",
        "data_2 = [32, 111, 138, 28, 59, 77, 97]\n",
        "sd_2=numpy.std(data_2)\n",
        "sd_2"
      ],
      "metadata": {
        "colab": {
          "base_uri": "https://localhost:8080/"
        },
        "id": "Uw6es7J9_CZB",
        "outputId": "fb815065-d827-42b2-dbc9-8a8dda7f18e6"
      },
      "execution_count": null,
      "outputs": [
        {
          "output_type": "execute_result",
          "data": {
            "text/plain": [
              "37.84501153334721"
            ]
          },
          "metadata": {},
          "execution_count": 10
        }
      ]
    },
    {
      "cell_type": "markdown",
      "source": [
        "# **Variance**\n",
        "\n",
        "Variance is another number that indicates how spread out the values are.\n",
        "\n",
        "In fact, if you take the square root of the variance, you get the standard deviation!\n",
        "\n",
        "Or the other way around, if you multiply the standard deviation by itself, you get the variance!"
      ],
      "metadata": {
        "id": "dhToIf99AOyV"
      }
    },
    {
      "cell_type": "markdown",
      "source": [
        "# **STEPS**\n",
        "\n",
        "**Step-1:**\n",
        "Find Mean.\n",
        "\n",
        "**Step-2:**\n",
        "For each value, find difference from mean.\n",
        "\n",
        "**Step-3:**\n",
        "For each value, find square value.\n",
        "\n",
        "**Step-4:**\n",
        "**Variance**= average value of all these Step-3 values."
      ],
      "metadata": {
        "id": "G6amnOUMBFBm"
      }
    },
    {
      "cell_type": "markdown",
      "source": [
        "We use `var()` method from numpy to find variance."
      ],
      "metadata": {
        "id": "yKwAty2iB2-q"
      }
    },
    {
      "cell_type": "code",
      "source": [
        "import numpy\n",
        "data_1 = [86, 87, 88, 86, 87, 85, 86]\n",
        "variance_1 = numpy.var(data_1)\n",
        "variance_1"
      ],
      "metadata": {
        "colab": {
          "base_uri": "https://localhost:8080/"
        },
        "id": "3GXKBIe5_NPo",
        "outputId": "b20be8c9-5553-4e12-af5f-33c8f927ab16"
      },
      "execution_count": null,
      "outputs": [
        {
          "output_type": "execute_result",
          "data": {
            "text/plain": [
              "0.8163265306122449"
            ]
          },
          "metadata": {},
          "execution_count": 21
        }
      ]
    },
    {
      "cell_type": "code",
      "source": [
        "import numpy\n",
        "data_2 = [32, 111, 138, 28, 59, 77, 97]\n",
        "variance_2 = numpy.var(data_2)\n",
        "variance_2"
      ],
      "metadata": {
        "colab": {
          "base_uri": "https://localhost:8080/"
        },
        "id": "YfwGOHJ0CHsI",
        "outputId": "5ce37959-4ebf-47f2-be4a-28f9e835a370"
      },
      "execution_count": null,
      "outputs": [
        {
          "output_type": "execute_result",
          "data": {
            "text/plain": [
              "1432.2448979591834"
            ]
          },
          "metadata": {},
          "execution_count": 20
        }
      ]
    },
    {
      "cell_type": "markdown",
      "source": [
        "**Standard Deviation** is square root of **Variance**."
      ],
      "metadata": {
        "id": "z2n7x3IiCXKe"
      }
    },
    {
      "cell_type": "code",
      "source": [
        "import math\n",
        "variance_1=0.8163265306122449\n",
        "std_1= math.sqrt(variance_1)\n",
        "std_1"
      ],
      "metadata": {
        "colab": {
          "base_uri": "https://localhost:8080/"
        },
        "id": "2FQcTxmaDHHC",
        "outputId": "f8c00247-e0e7-4e1a-d45e-4f72fa2c38c9"
      },
      "execution_count": null,
      "outputs": [
        {
          "output_type": "execute_result",
          "data": {
            "text/plain": [
              "0.9035079029052513"
            ]
          },
          "metadata": {},
          "execution_count": 22
        }
      ]
    },
    {
      "cell_type": "code",
      "source": [
        "import math\n",
        "variance_2=1432.2448979591834\n",
        "std_2= math.sqrt(variance_2)\n",
        "std_2"
      ],
      "metadata": {
        "colab": {
          "base_uri": "https://localhost:8080/"
        },
        "id": "g4osRksqCTMl",
        "outputId": "87783109-1ef0-4678-f0db-abc38f91ffeb"
      },
      "execution_count": null,
      "outputs": [
        {
          "output_type": "execute_result",
          "data": {
            "text/plain": [
              "37.84501153334721"
            ]
          },
          "metadata": {},
          "execution_count": 23
        }
      ]
    },
    {
      "cell_type": "markdown",
      "source": [
        "# Percentiles\n",
        "\n",
        "**Defination:**\n",
        "\n",
        "Percentiles are used in statistics to give you a number that describes the value that a given percent of the values are lower than.\n",
        "\n",
        "Example:\n",
        "\n",
        "ages = [5,31,43,48,50,41,7,11,15,39,80,82,32,2,8,6,25,36,27,61,31]\n",
        "\n",
        "- What is the 75 percentile?\n",
        "\n",
        "ANS: 43\n",
        "\n",
        "it means, 75% of peoples are 43 or younger than 43."
      ],
      "metadata": {
        "id": "cshahRDKD4w3"
      }
    },
    {
      "cell_type": "markdown",
      "source": [
        "We use `percentile()` from numpy."
      ],
      "metadata": {
        "id": "6wNjRuFREdNj"
      }
    },
    {
      "cell_type": "code",
      "source": [
        "import numpy\n",
        "ages = [5,31,43,48,50,41,7,11,15,39,80,82,32,2,8,6,25,36,27,61,31]\n",
        "x= numpy.percentile(ages, 75)\n",
        "x\n"
      ],
      "metadata": {
        "colab": {
          "base_uri": "https://localhost:8080/"
        },
        "id": "a_H332WuCyqq",
        "outputId": "b3a7a171-6dde-4564-825b-2d4a168d7834"
      },
      "execution_count": null,
      "outputs": [
        {
          "output_type": "execute_result",
          "data": {
            "text/plain": [
              "43.0"
            ]
          },
          "metadata": {},
          "execution_count": 25
        }
      ]
    },
    {
      "cell_type": "markdown",
      "source": [
        "# Data Distribution\n",
        "\n",
        "In real world, datasets are often large.\n",
        "\n",
        "lets create random data of between 0-5."
      ],
      "metadata": {
        "id": "BjuWplwNUHeA"
      }
    },
    {
      "cell_type": "code",
      "source": [
        "import numpy\n",
        "x= numpy.random.uniform(0,5,250)\n",
        "x"
      ],
      "metadata": {
        "id": "YXb9qzC6Eysg",
        "colab": {
          "base_uri": "https://localhost:8080/"
        },
        "outputId": "07e1322f-1804-40e8-b600-4c2625420d2a"
      },
      "execution_count": 3,
      "outputs": [
        {
          "output_type": "execute_result",
          "data": {
            "text/plain": [
              "array([3.51460919, 2.6665067 , 0.26962113, 2.92052662, 3.85488041,\n",
              "       4.70526219, 1.05644627, 4.82325095, 0.3137786 , 1.38345538,\n",
              "       0.57925996, 0.40242652, 4.04885718, 0.63612261, 0.8100228 ,\n",
              "       0.84345872, 2.74142536, 3.68274307, 2.37870762, 0.7012099 ,\n",
              "       4.69073091, 4.13386551, 0.36648254, 2.25164484, 0.85147125,\n",
              "       3.94681433, 0.85326565, 2.87887776, 2.21588136, 1.83399261,\n",
              "       0.02926174, 3.98522557, 0.08620543, 1.44593206, 1.70071281,\n",
              "       4.34523232, 1.38773714, 4.30085374, 0.52678359, 2.04624986,\n",
              "       2.32722959, 2.39395264, 2.1566811 , 1.02685778, 3.38253942,\n",
              "       3.42119612, 0.3517224 , 0.57557533, 2.14323194, 2.68191929,\n",
              "       3.80382896, 1.47778864, 4.17383491, 1.41456813, 3.34305912,\n",
              "       0.8052589 , 0.43215499, 1.77554952, 3.18927714, 4.47937828,\n",
              "       0.51468046, 2.06157912, 3.70168528, 0.26532578, 0.8045055 ,\n",
              "       4.72838304, 4.05946333, 3.21796238, 2.40594929, 4.85723622,\n",
              "       3.08910237, 4.97794448, 2.3205056 , 0.28723022, 4.57699957,\n",
              "       0.62355581, 4.62157014, 0.76866265, 4.79518489, 2.50131412,\n",
              "       2.35382589, 2.88399933, 0.82537871, 1.77509451, 3.5370228 ,\n",
              "       4.43591075, 2.39485327, 2.11521953, 4.24129428, 1.22661965,\n",
              "       2.02605348, 4.18041608, 1.06177147, 2.23761456, 3.59487807,\n",
              "       0.36475835, 0.17924644, 0.71329456, 0.18352328, 1.00177637,\n",
              "       4.30124294, 1.50886763, 1.2744515 , 4.67923675, 4.23736206,\n",
              "       2.81223555, 3.51834746, 1.96840456, 3.48811451, 1.68489894,\n",
              "       3.54086155, 3.4268875 , 1.80910388, 4.52727794, 1.68306083,\n",
              "       0.15222756, 2.67322415, 4.84108907, 2.51864357, 0.94864668,\n",
              "       2.93150782, 0.38530808, 0.9081373 , 2.66567231, 2.99976696,\n",
              "       0.50162469, 4.69181176, 3.66694192, 3.74874241, 1.20744301,\n",
              "       0.9710363 , 3.09335126, 1.6893442 , 4.98370667, 1.27200642,\n",
              "       3.11962902, 3.28543632, 1.06323597, 0.75582986, 3.11715315,\n",
              "       2.69071485, 0.12241855, 3.25259625, 3.5960281 , 3.11323593,\n",
              "       2.92454848, 0.95449318, 1.25837718, 4.17334152, 0.14443178,\n",
              "       0.39452508, 2.73400211, 0.135362  , 2.35111692, 4.85658525,\n",
              "       1.63241924, 4.19249083, 0.26946087, 0.46432062, 2.05030672,\n",
              "       4.39894   , 4.64614951, 1.23469683, 0.92397357, 3.11290586,\n",
              "       2.9175129 , 3.96799548, 3.61954679, 4.13603594, 0.05896018,\n",
              "       1.65821439, 0.18726853, 1.17431411, 2.15308032, 3.58604634,\n",
              "       2.17928946, 1.03465849, 2.76839454, 4.15669715, 4.48173424,\n",
              "       2.24388041, 0.64997337, 3.91480408, 2.48500273, 4.03863916,\n",
              "       2.89505565, 1.06596252, 4.17147796, 0.53441414, 2.78672819,\n",
              "       4.63797104, 0.88889036, 1.51195558, 3.94547322, 3.60961179,\n",
              "       3.08135732, 3.11938321, 4.77771784, 2.851325  , 0.31989028,\n",
              "       0.21560296, 1.20356544, 0.86924185, 2.37227289, 0.00915464,\n",
              "       3.95332259, 1.0382822 , 3.9952946 , 0.51233363, 4.84548958,\n",
              "       3.53363807, 3.03235086, 2.20898674, 0.88548091, 2.26231612,\n",
              "       3.38787847, 3.69828682, 3.57632516, 1.03032043, 0.04378422,\n",
              "       2.32686194, 0.52883683, 0.25607527, 2.65105305, 2.52570188,\n",
              "       3.66989144, 2.7730913 , 0.39156444, 3.85352545, 4.0952324 ,\n",
              "       3.54905075, 2.15462449, 1.46541526, 4.63035278, 1.49134441,\n",
              "       3.05331599, 0.70674655, 3.91363043, 4.79595906, 1.14248227,\n",
              "       3.21820478, 4.57884159, 4.88828487, 0.58627383, 0.19986643,\n",
              "       0.87875824, 0.15392041, 1.2307655 , 1.35873002, 1.89003881])"
            ]
          },
          "metadata": {},
          "execution_count": 3
        }
      ]
    },
    {
      "cell_type": "markdown",
      "source": [
        "#Histogram\n",
        "\n",
        "We can visuallize collected data by drawing histogram.\n",
        "\n",
        "We use **matplotlib** to draw histograms."
      ],
      "metadata": {
        "id": "U05m7Tf_VBoI"
      }
    },
    {
      "cell_type": "code",
      "source": [
        "import numpy\n",
        "import matplotlib.pyplot as plt\n",
        "x= numpy.random.uniform(0,50,5000)\n",
        "plt.hist(x,50)\n",
        "plt.show()"
      ],
      "metadata": {
        "colab": {
          "base_uri": "https://localhost:8080/",
          "height": 430
        },
        "id": "7w2YaYBSUr7G",
        "outputId": "aa880709-312d-490e-b000-b1426120075a"
      },
      "execution_count": 13,
      "outputs": [
        {
          "output_type": "display_data",
          "data": {
            "text/plain": [
              "<Figure size 640x480 with 1 Axes>"
            ],
            "image/png": "[encoded data removed]"
          },
          "metadata": {}
        }
      ]
    },
    {
      "cell_type": "markdown",
      "source": [
        "# Normal Data Distribution\n",
        "\n",
        "In the previous we learned how to create a completely random array, of a given size, and between two given values.\n",
        "\n",
        "In this we **will learn how to create an array where the values are concentrated around a given value.**\n",
        "\n",
        "In probability theory this kind of data distribution is known as the normal data distribution, or the Gaussian data distribution, after the mathematician Carl Friedrich Gauss who came up with the formula of this data distribution."
      ],
      "metadata": {
        "id": "nwp0atrYWXVk"
      }
    },
    {
      "cell_type": "code",
      "source": [
        "import numpy\n",
        "import matplotlib.pyplot as plt\n",
        "x=numpy.random.normal(5,1,10000)\n",
        "plt.hist(x,100)\n",
        "plt.show()"
      ],
      "metadata": {
        "colab": {
          "base_uri": "https://localhost:8080/",
          "height": 430
        },
        "id": "9oG9AFgKVis4",
        "outputId": "ff69af6e-2419-42ec-dbeb-2a637046be59"
      },
      "execution_count": 18,
      "outputs": [
        {
          "output_type": "display_data",
          "data": {
            "text/plain": [
              "<Figure size 640x480 with 1 Axes>"
            ],
            "image/png": "[encoded data removed]"
          },
          "metadata": {}
        }
      ]
    },
    {
      "cell_type": "markdown",
      "source": [
        "# Explaination:\n",
        "\n",
        "We used the array from the `numpy.random.normal()` method, with 10000 values,  to draw a histogram with 100 bars.\n",
        "\n",
        "\n",
        "*We specify that the mean value is 5.0, and the standard deviation is 1.0.*\n",
        "\n",
        "\n",
        "**Meaning that the values should be concentrated around 5.0, and rarely further away than 1.0 from the mean.**\n",
        "\n",
        "And as you can see from the histogram, most values are between 4.0 and 6.0, with a top at approximately 5.0."
      ],
      "metadata": {
        "id": "lkuG0TPCXNyy"
      }
    },
    {
      "cell_type": "code",
      "source": [],
      "metadata": {
        "id": "kMDqaAjwW4QE"
      },
      "execution_count": null,
      "outputs": []
    },
    {
      "cell_type": "markdown",
      "source": [
        "# **Scatter Plot**\n",
        "\n",
        "**A scatter plot is a diagram where each value in the data set is represented by a dot.**\n",
        "\n",
        "\n",
        "The Matplotlib module has a method for drawing scatter plots, it needs two arrays of the same length, one for the values of the x-axis, and one for the values of the y-axis.\n",
        "\n",
        "X=[7,2,5,4,6]\n",
        "\n",
        "Y=[20,25,30,22,25]\n",
        "\n",
        "X represent number of each age group people.\n",
        "\n",
        "Y represent their age.\n",
        "\n",
        "`scatter()` method  is used to to draw a scatter plot diagram."
      ],
      "metadata": {
        "id": "_CU3mb4OX1iy"
      }
    },
    {
      "cell_type": "code",
      "source": [
        "import matplotlib.pyplot as plt\n",
        "X=[7,2,5,4,6]\n",
        "Y=[20,25,30,22,25]\n",
        "plt.scatter(X,Y)\n",
        "plt.show()"
      ],
      "metadata": {
        "colab": {
          "base_uri": "https://localhost:8080/",
          "height": 430
        },
        "id": "JahXCMuRX75C",
        "outputId": "e560ec7d-9049-4b52-dbee-fa6000a3cc90"
      },
      "execution_count": 19,
      "outputs": [
        {
          "output_type": "display_data",
          "data": {
            "text/plain": [
              "<Figure size 640x480 with 1 Axes>"
            ],
            "image/png": "[encoded data removed]"
          },
          "metadata": {}
        }
      ]
    },
    {
      "cell_type": "markdown",
      "source": [
        "X-axis representing number of people in each age group and Y-axis represent their age."
      ],
      "metadata": {
        "id": "NZGKPf07ZNjz"
      }
    },
    {
      "cell_type": "markdown",
      "source": [
        "# Random Data Distribution\n",
        "\n",
        "In Machine Learning the data sets can contain thousands-, or even millions, of values.\n",
        "\n",
        "You might not have real world data when you are testing an algorithm, you might have to use randomly generated values.\n",
        "\n",
        "As we have learned in the previous chapter, the NumPy module can help us with that!\n",
        "\n",
        "Let us create two arrays that are both filled with 1000 random numbers from a normal data distribution.\n",
        "\n",
        "The first array will have the mean set to 5.0 with a standard deviation of 1.0.\n",
        "\n",
        "The second array will have the mean set to 10.0 with a standard deviation of 2.0."
      ],
      "metadata": {
        "id": "ppl_ZuRXZspU"
      }
    },
    {
      "cell_type": "code",
      "source": [
        "import matplotlib.pyplot as plt\n",
        "import numpy\n",
        "\n",
        "a= numpy.random.normal(5,1,1000)\n",
        "b= numpy.random.normal(10,2,1000)\n",
        "\n",
        "plt.scatter(a,b)\n",
        "plt.show()"
      ],
      "metadata": {
        "colab": {
          "base_uri": "https://localhost:8080/",
          "height": 430
        },
        "id": "3SK0iG9IZEr8",
        "outputId": "dca01301-12f7-475b-9f9f-f68b23067e52"
      },
      "execution_count": 20,
      "outputs": [
        {
          "output_type": "display_data",
          "data": {
            "text/plain": [
              "<Figure size 640x480 with 1 Axes>"
            ],
            "image/png": "[encoded data removed]"
          },
          "metadata": {}
        }
      ]
    },
    {
      "cell_type": "code",
      "source": [],
      "metadata": {
        "id": "wP4dLAvTaMrj"
      },
      "execution_count": null,
      "outputs": []
    }
  ]
}