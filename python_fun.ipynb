{
  "nbformat": 4,
  "nbformat_minor": 0,
  "metadata": {
    "colab": {
      "provenance": [],
      "authorship_tag": "ABX9TyOuf8LFvL9iDu+6aC+12Ppi",
      "include_colab_link": true
    },
    "kernelspec": {
      "name": "python3",
      "display_name": "Python 3"
    },
    "language_info": {
      "name": "python"
    }
  },
  "cells": [
    {
      "cell_type": "markdown",
      "metadata": {
        "id": "view-in-github",
        "colab_type": "text"
      },
      "source": [
        "<a href=\"https://colab.research.google.com/github/bprabin811/7-Day-of-ML/blob/main/python_fun.ipynb\" target=\"_parent\"><img src=\"https://colab.research.google.com/assets/colab-badge.svg\" alt=\"Open In Colab\"/></a>"
      ]
    },
    {
      "cell_type": "markdown",
      "source": [
        "**CountryInfo**"
      ],
      "metadata": {
        "id": "7F3Q8MxqFW0O"
      }
    },
    {
      "cell_type": "code",
      "execution_count": 1,
      "metadata": {
        "colab": {
          "base_uri": "https://localhost:8080/"
        },
        "collapsed": true,
        "id": "EWdLztelFLPx",
        "outputId": "8182f2e7-67bd-4bf8-82ad-3ee0841a99b6"
      },
      "outputs": [
        {
          "output_type": "stream",
          "name": "stdout",
          "text": [
            "Collecting countryinfo\n",
            "  Downloading countryinfo-0.1.2-py3-none-any.whl.metadata (24 kB)\n",
            "Downloading countryinfo-0.1.2-py3-none-any.whl (602 kB)\n",
            "\u001b[?25l   \u001b[90m━━━━━━━━━━━━━━━━━━━━━━━━━━━━━━━━━━━━━━━━\u001b[0m \u001b[32m0.0/602.2 kB\u001b[0m \u001b[31m?\u001b[0m eta \u001b[36m-:--:--\u001b[0m\r\u001b[2K   \u001b[90m━━━━━━━━━━━━━━━━━━━━━━━━━━━━━━━━━━━━━━━━\u001b[0m \u001b[32m602.2/602.2 kB\u001b[0m \u001b[31m17.9 MB/s\u001b[0m eta \u001b[36m0:00:00\u001b[0m\n",
            "\u001b[?25hInstalling collected packages: countryinfo\n",
            "Successfully installed countryinfo-0.1.2\n"
          ]
        }
      ],
      "source": [
        "!pip install countryinfo"
      ]
    },
    {
      "cell_type": "code",
      "source": [
        "from countryinfo import CountryInfo\n",
        "\n",
        "country = CountryInfo('Nepal')\n",
        "\n",
        "data ={\n",
        "    'Capital': country.capital(),\n",
        "    'Currencies': country.currencies(),\n",
        "    'Languages': country.languages(),\n",
        "    'Borders': country.borders(),\n",
        "    'Timezones': country.timezones(),\n",
        "    'Population': country.population(),\n",
        "    'Region': country.region(),\n",
        "    'Subregion': country.subregion(),\n",
        "    'Area': country.area(),\n",
        "}\n",
        "\n",
        "data"
      ],
      "metadata": {
        "colab": {
          "base_uri": "https://localhost:8080/"
        },
        "id": "oa71y2WqFRRV",
        "outputId": "9c29ca7e-1bf7-42c4-df00-b7f25ea9e5bf"
      },
      "execution_count": 10,
      "outputs": [
        {
          "output_type": "execute_result",
          "data": {
            "text/plain": [
              "{'Capital': 'Kathmandu',\n",
              " 'Currencies': ['NPR'],\n",
              " 'Languages': ['ne'],\n",
              " 'Borders': ['CHN', 'IND'],\n",
              " 'Timezones': ['UTC+05:45'],\n",
              " 'Population': 27646053,\n",
              " 'Region': 'Asia',\n",
              " 'Subregion': 'Southern Asia',\n",
              " 'Area': 147181}"
            ]
          },
          "metadata": {},
          "execution_count": 10
        }
      ]
    },
    {
      "cell_type": "code",
      "source": [
        "def add(x,y):\n",
        "  return x+y\n",
        "\n",
        "def sub(x,y):\n",
        "  return x-y\n",
        "\n",
        "def mul(x,y):\n",
        "  return x*y\n",
        "\n",
        "def div(x,y):\n",
        "  return x/y\n",
        "\n",
        "def pipe(value, *functions):\n",
        "  for func, arg in functions:\n",
        "    value = func(value,arg)\n",
        "    return value"
      ],
      "metadata": {
        "id": "AhDamAZiF64-"
      },
      "execution_count": 13,
      "outputs": []
    },
    {
      "cell_type": "code",
      "source": [
        "pipe(5, (add,3))"
      ],
      "metadata": {
        "colab": {
          "base_uri": "https://localhost:8080/"
        },
        "id": "iXenMdbIIiX0",
        "outputId": "9a528273-2165-430b-cd24-50c0a6bab0e8"
      },
      "execution_count": 14,
      "outputs": [
        {
          "output_type": "execute_result",
          "data": {
            "text/plain": [
              "8"
            ]
          },
          "metadata": {},
          "execution_count": 14
        }
      ]
    },
    {
      "cell_type": "code",
      "source": [
        "def devide(a,b):\n",
        "  assert b != 0, 'b cannot be zero.'\n",
        "  return a/b\n",
        "\n",
        "devide(10,5)"
      ],
      "metadata": {
        "colab": {
          "base_uri": "https://localhost:8080/"
        },
        "id": "8eFz1kiNImjU",
        "outputId": "5f5da34a-39ae-4400-c534-efd292bd2e07"
      },
      "execution_count": 21,
      "outputs": [
        {
          "output_type": "execute_result",
          "data": {
            "text/plain": [
              "2.0"
            ]
          },
          "metadata": {},
          "execution_count": 21
        }
      ]
    },
    {
      "cell_type": "code",
      "source": [
        ""
      ],
      "metadata": {
        "id": "V_ccP9baJUYR"
      },
      "execution_count": null,
      "outputs": []
    }
  ]
}